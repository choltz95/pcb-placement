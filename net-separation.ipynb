{
 "cells": [
  {
   "cell_type": "code",
   "execution_count": 273,
   "metadata": {},
   "outputs": [
    {
     "name": "stdout",
     "output_type": "stream",
     "text": [
      "The autoreload extension is already loaded. To reload it, use:\n",
      "  %reload_ext autoreload\n"
     ]
    }
   ],
   "source": [
    "from floorplan import Box, Net, FloorPlan\n",
    "\n",
    "import cvxpy as cp\n",
    "from cvxpy import Variable, Constant, Minimize, Problem\n",
    "import placedb\n",
    "import pylab\n",
    "import math\n",
    "\n",
    "import joblib\n",
    "\n",
    "from sklearn.manifold import SpectralEmbedding\n",
    "\n",
    "import scipy.io as io\n",
    "import scipy.sparse.csgraph as csgraph\n",
    "\n",
    "import jax\n",
    "from jax import jit, vmap, random, grad\n",
    "from jax.experimental import optimizers\n",
    "from jax import numpy as jnp\n",
    "\n",
    "from functools import partial\n",
    "import itertools\n",
    "\n",
    "import numpy as np\n",
    "import numpy.random as npr\n",
    "import matplotlib.pyplot as plt\n",
    "%matplotlib inline\n",
    "from matplotlib import collections as mc\n",
    "\n",
    "import datetime\n",
    "from tqdm.notebook import tqdm\n",
    "\n",
    "%load_ext autoreload\n",
    "%autoreload 2"
   ]
  },
  {
   "cell_type": "code",
   "execution_count": 274,
   "metadata": {},
   "outputs": [],
   "source": [
    "from ucsdpcb import PcbDB"
   ]
  },
  {
   "cell_type": "code",
   "execution_count": 275,
   "metadata": {},
   "outputs": [
    {
     "name": "stdout",
     "output_type": "stream",
     "text": [
      "bm9  namer.py  README.md\r\n"
     ]
    }
   ],
   "source": [
    "!ls _PCBBenchmarks/"
   ]
  },
  {
   "cell_type": "code",
   "execution_count": 276,
   "metadata": {},
   "outputs": [
    {
     "name": "stderr",
     "output_type": "stream",
     "text": [
      "Build Kicad Pcb database...\n"
     ]
    }
   ],
   "source": [
    "numCores = joblib.cpu_count()\n",
    "\n",
    "bm = 9 # which benchmark to load\n",
    "design = \"bm{}\".format(bm)\n",
    "pcb_path = \"_PCBBenchmarks/bm{}/bm{}.routed.kicad_pcb\".format(bm,bm)\n",
    "db = PcbDB.kicadPcbDataBase(pcb_path)"
   ]
  },
  {
   "cell_type": "code",
   "execution_count": 277,
   "metadata": {},
   "outputs": [],
   "source": [
    "name2idx = {}\n",
    "compw = []\n",
    "comph = []\n",
    "compx = []\n",
    "compy = []\n",
    "movable = []\n",
    "initrot = []\n",
    "initm = []\n",
    "mirror = []\n",
    "netss = []\n",
    "offsets = []\n",
    "size = []\n",
    "\n",
    "maxx = 0\n",
    "maxy = 0\n",
    "minx = 99999999\n",
    "miny = 99999999\n",
    "\n",
    "constraint_threshold = 0 # distance between pairs of components to determine relative position constraints"
   ]
  },
  {
   "cell_type": "code",
   "execution_count": 278,
   "metadata": {},
   "outputs": [
    {
     "name": "stdout",
     "output_type": "stream",
     "text": [
      "0 149.606 100.8634 True 4.04 2.06 270 True\n",
      "1 151.8666 100.8634 True 4.04 2.06 270 True\n",
      "2 140.5636 105.2322 True 4.04 2.06 90 True\n",
      "3 142.7988 100.6856 False 4.04 2.06 180 True\n",
      "4 145.0594 105.2068 True 6.2 6.2 270 True\n",
      "5 149.479 108.6104 True 4.2 2.2 270 True\n",
      "6 151.7396 108.585 True 4.2 2.2 270 True\n",
      "7 156.083 104.902 True 10.2 3.7 90 False\n",
      "util: 0.5859955650013281\n",
      "num nodes: 8 (7 movable)\n"
     ]
    }
   ],
   "source": [
    "sumarea = 0\n",
    "# gather rotation and coordinates of components\n",
    "for i in range(db.getInstancesCount()):\n",
    "    inst = db.getInstance(i)\n",
    "    compid = inst.getComponentId()\n",
    "\n",
    "    angle = int(inst.getAngle())\n",
    "    if inst.isLocked():\n",
    "        movable.append(False)\n",
    "    else:\n",
    "        movable.append(True)\n",
    "    if (angle == 0):\n",
    "        initrot.append(False)\n",
    "        initm.append(False)\n",
    "    elif (angle == 90):\n",
    "        initrot.append(True)\n",
    "        initm.append(False)\n",
    "    elif (angle == 180):\n",
    "        initrot.append(False)\n",
    "        initm.append(True)\n",
    "    elif (angle == 270):\n",
    "        initrot.append(True)\n",
    "        initm.append(True)\n",
    "        \n",
    "    compx.append(inst.getX() - 0.5 * ((1-int(initrot[-1]))*db.getCompBBoxW(compid) + \n",
    "                                      (int(initrot[-1]))*db.getCompBBoxH(compid)))\n",
    "    compy.append(inst.getY() - 0.5 * ((1-int(initrot[-1]))*db.getCompBBoxH(compid) + \n",
    "                                      (int(initrot[-1]))*db.getCompBBoxW(compid)))\n",
    "    compw.append(db.getCompBBoxW(compid))\n",
    "    comph.append(db.getCompBBoxH(compid))\n",
    "    \n",
    "    if compx[-1] < minx:\n",
    "        minx = compx[-1]\n",
    "    if compy[-1] < miny:\n",
    "        miny = compy[-1]\n",
    "        \n",
    "    if True:\n",
    "        if compx[-1] + comph[-1] > maxx:\n",
    "            maxx = compx[-1] + comph[-1]\n",
    "        if compy[-1] + compw[-1] > maxy:\n",
    "            maxy = compy[-1] + compw[-1]\n",
    "    else:\n",
    "        if compx[-1] + compw[-1] > maxx:\n",
    "            maxx = compx[-1] + compw[-1]\n",
    "        if compy[-1] + comph[-1] > maxy:\n",
    "            maxy = compy[-1] + comph[-1]\n",
    "    \n",
    "    print(i,inst.getX(), inst.getY(), initrot[-1], db.getCompBBoxW(compid), db.getCompBBoxH(compid), \n",
    "          angle, not inst.isLocked())\n",
    "    sumarea += db.getCompBBoxW(compid)* db.getCompBBoxH(compid)\n",
    "print(\"util: {}\".format(sumarea/((maxx-minx)*(maxy-miny))))\n",
    "print('num nodes: {} ({} movable)'.format(len(compx), len([m for m in movable if m])))"
   ]
  },
  {
   "cell_type": "code",
   "execution_count": 279,
   "metadata": {},
   "outputs": [],
   "source": [
    "\"\"\"Gather pin offset information \"\"\"\n",
    "for i in range(db.getNumNets()):\n",
    "    net = db.getNet(i)\n",
    "    pins = net.getPins()\n",
    "    netss.append([])\n",
    "    offsets.append([])\n",
    "    for p in pins:\n",
    "        instid = p.getInstId()\n",
    "        netss[-1].append(instid)\n",
    "        px = db.getPinPositionX(p)\n",
    "        py = db.getPinPositionY(p)\n",
    "        inst = db.getInstance(instid)\n",
    "        ix = inst.getX() \n",
    "        iy = inst.getY()\n",
    "        w = comph[instid]\n",
    "        h = compw[instid]\n",
    "\n",
    "        angle = int(inst.getAngle())\n",
    "\n",
    "        xoff = (1-int(initrot[instid]))*(px-ix)/h + (int(initrot[instid]))*(px-ix)/w\n",
    "        yoff = (1-int(initrot[instid]))*(py-iy)/w + (int(initrot[instid]))*(py-iy)/h\n",
    "        assert np.abs(xoff) < 1.0\n",
    "        assert np.abs(yoff) < 1.0\n",
    "        if True:\n",
    "            t = xoff\n",
    "            xoff = yoff\n",
    "            yoff = t\n",
    "\n",
    "        if (angle == 0):##\n",
    "            offsets[-1].append((xoff,yoff))\n",
    "        elif (angle == 90):##\n",
    "            offsets[-1].append((yoff,xoff))\n",
    "        elif (angle == 180):##\n",
    "            offsets[-1].append((xoff,yoff))\n",
    "        elif (angle == 270):##\n",
    "            offsets[-1].append((yoff,xoff))\n",
    "        else:\n",
    "            assert False\n",
    "            \n",
    "offsets = [o for o, n in zip(offsets, netss) if len(n)>=2]        \n",
    "netss = [n for n in netss if len(n)>= 2]\n",
    "netlens = [len(n) for n in netss]\n",
    "maxlenidx = np.array(netlens).argsort()[-2:]\n",
    "\n",
    "offsets = [o for i,o in enumerate(offsets) if i not in maxlenidx]\n",
    "netss = [n for i,n in enumerate(netss) if i not in maxlenidx]"
   ]
  },
  {
   "cell_type": "code",
   "execution_count": 280,
   "metadata": {},
   "outputs": [
    {
     "name": "stdout",
     "output_type": "stream",
     "text": [
      "num horizontal & vertical constraints: 20 8\n"
     ]
    }
   ],
   "source": [
    "\"\"\"Instantiate MILP variables \"\"\"\n",
    "nets = []\n",
    "for i, net in enumerate(netss):\n",
    "    nodes = net\n",
    "    pin_offsets = offsets[i]\n",
    "    \n",
    "    # ignore 1-pin nets\n",
    "    if len(nodes) <=1: continue\n",
    "    nets.append(Net(nodes, pin_offsets, i))\n",
    "    \n",
    "boxes = []\n",
    "for i in range(len(compw)):\n",
    "    boxes.append(Box(compw[i], comph[i], compx[i], compy[i], \n",
    "                     initialr =[not r for r in initrot][i], initialmx=0, initialmy=0, idx=i, \n",
    "                     r=movable[i], pl=movable[i], m=False))\n",
    "\n",
    "    placeable_area = (56,52)\n",
    "\n",
    "num_nets = len(netss)\n",
    "num_nodes = len(boxes)\n",
    "adj=np.zeros((num_nodes,num_nodes))\n",
    "for netid, net in enumerate(netss):\n",
    "    for nodeid1 in net:\n",
    "        for nodeid2 in net:\n",
    "            adj[nodeid1,nodeid2] += 1\n",
    "  \n",
    "# order constraints\n",
    "vo = []\n",
    "ho = []\n",
    "\n",
    "norelpairs = []\n",
    "\n",
    "for i1, x1 in enumerate(zip(compx, compy)):\n",
    "    for i2, x2 in enumerate(zip(compx, compy)):\n",
    "        if i2 <= i1:\n",
    "            continue\n",
    "        # if distance greater than threshold\n",
    "        if max(abs(x1[0] - x2[0]), abs(x1[1] - x2[1])) > constraint_threshold:\n",
    "            if abs(x1[0] - x2[0]) < abs(x1[1] - x2[1]):\n",
    "                if x1[1] < x2[1]:\n",
    "                    vo.append([i1, i2])\n",
    "                else:\n",
    "                    vo.append([i2,i1])\n",
    "            else:\n",
    "                if x1[0] < x2[0]:\n",
    "                    ho.append([i1, i2])\n",
    "                else:\n",
    "                    ho.append([i2,i1]) \n",
    "        else:\n",
    "            norelpairs.append([i1,i2])\n",
    "\n",
    "horiz_order = [[boxes[i] for i in h] for h in ho]\n",
    "vert_order = [[boxes[i] for i in v] for v in vo]\n",
    "\n",
    "print('num horizontal & vertical constraints:',len(horiz_order),len(vert_order))"
   ]
  },
  {
   "cell_type": "code",
   "execution_count": 281,
   "metadata": {},
   "outputs": [
    {
     "name": "stdout",
     "output_type": "stream",
     "text": [
      "Compiled constraints\n",
      "===============================================================================\n",
      "                                     CVXPY                                     \n",
      "                                     v1.4.1                                    \n",
      "===============================================================================\n",
      "(CVXPY) Oct 25 11:42:14 AM: Your problem has 108 variables, 312 constraints, and 0 parameters.\n",
      "(CVXPY) Oct 25 11:42:14 AM: It is compliant with the following grammars: DCP, DQCP\n",
      "(CVXPY) Oct 25 11:42:14 AM: (If you need to solve this problem multiple times, but with different data, consider using parameters.)\n",
      "(CVXPY) Oct 25 11:42:14 AM: CVXPY will first compile your problem; then, it will invoke a numerical solver to obtain a solution.\n",
      "(CVXPY) Oct 25 11:42:14 AM: Your problem is compiled with the CPP canonicalization backend.\n",
      "-------------------------------------------------------------------------------\n",
      "                                  Compilation                                  \n",
      "-------------------------------------------------------------------------------\n",
      "(CVXPY) Oct 25 11:42:14 AM: Compiling problem (target solver=GLPK_MI).\n",
      "(CVXPY) Oct 25 11:42:14 AM: Reduction chain: Dcp2Cone -> CvxAttr2Constr -> ConeMatrixStuffing -> GLPK_MI\n",
      "(CVXPY) Oct 25 11:42:14 AM: Applying reduction Dcp2Cone\n",
      "(CVXPY) Oct 25 11:42:14 AM: Applying reduction CvxAttr2Constr\n",
      "(CVXPY) Oct 25 11:42:14 AM: Applying reduction ConeMatrixStuffing\n",
      "(CVXPY) Oct 25 11:42:14 AM: Applying reduction GLPK_MI\n",
      "(CVXPY) Oct 25 11:42:14 AM: Finished problem compilation (took 1.490e-01 seconds).\n",
      "-------------------------------------------------------------------------------\n",
      "                                Numerical solver                               \n",
      "-------------------------------------------------------------------------------\n",
      "(CVXPY) Oct 25 11:42:14 AM: Invoking solver GLPK_MI  to obtain a solution.\n",
      "-------------------------------------------------------------------------------\n",
      "                                    Summary                                    \n",
      "-------------------------------------------------------------------------------\n",
      "(CVXPY) Oct 25 11:42:14 AM: Problem status: optimal\n",
      "(CVXPY) Oct 25 11:42:14 AM: Optimal value: 0.000e+00\n",
      "(CVXPY) Oct 25 11:42:14 AM: Compilation took 1.490e-01 seconds\n",
      "(CVXPY) Oct 25 11:42:14 AM: Solver (including time spent in interface) took 4.563e-04 seconds\n",
      "39.239199934084425\n"
     ]
    },
    {
     "data": {
      "image/png": "[encoded data removed]",
      "text/plain": [
       "<Figure size 432x288 with 1 Axes>"
      ]
     },
     "metadata": {},
     "output_type": "display_data"
    }
   ],
   "source": [
    "# First, just plot the manual layout (set all components to not be movable / rotateable / no constraints)\n",
    "boxes = []\n",
    "horiz_order = []\n",
    "vert_order = []\n",
    "for i in range(len(compw)):\n",
    "    boxes.append(Box(compw[i], comph[i], compx[i], compy[i], \n",
    "                     initialr =[not r for r in initrot][i], initialmx=0, initialmy=0, idx=i, \n",
    "                     r=False, pl=False, m=False))\n",
    "    \n",
    "fp = FloorPlan(boxes, nets,adj,obj=False,norelpairs=None, ox=minx,oy=miny,boundary_W=maxx-minx, boundary_H=maxy-miny, \n",
    "               margin=0.5,horizontal_orderings=horiz_order, vertical_orderings=vert_order, \n",
    "               max_seconds=3800, num_cores=numCores-1, name=design)\n",
    "p, c = fp.layout()\n",
    "print(fp.h.value)\n",
    "fp.show()"
   ]
  },
  {
   "cell_type": "code",
   "execution_count": 282,
   "metadata": {},
   "outputs": [],
   "source": [
    "\"\"\"net separator vars \"\"\"\n",
    "jax.config.update('jax_platform_name', 'cpu')\n",
    "\n",
    "A = adj\n",
    "N = A.shape[0]\n",
    "v = np.ones(N)\n",
    "D = np.diag(v)\n",
    "b = jnp.zeros(N)\n",
    "d = jnp.zeros(N)\n",
    "\n",
    "c1 = maxx-minx\n",
    "c2 = maxy-miny\n",
    "c3 = 0\n",
    "C = jnp.block([[c1, c3],[c3, c2]])\n",
    "assert c1*c2 >= c3\n",
    "assert np.linalg.det(C) > 1e-5"
   ]
  },
  {
   "cell_type": "code",
   "execution_count": 283,
   "metadata": {},
   "outputs": [],
   "source": [
    "\"\"\"net separator fns \"\"\"\n",
    "X_k = np.random.normal(size=(A.shape[0],2))\n",
    "alpha=1e-2\n",
    "\n",
    "def pairwise_dist(X):\n",
    "    euc = lambda x: vmap(lambda y: jnp.linalg.norm(jnp.maximum(jnp.abs(x-y), eps))**2)(X)\n",
    "    return vmap(euc)(X)\n",
    "\n",
    "def _ec(X, U_i, r_i, A_i, B_i):\n",
    "    return jnp.linalg.norm(jnp.clip(-A_i.T@X@U_i + (r_i + 1)*jnp.ones(U_i.shape[-1]), eps))**2 + \\\n",
    "           jnp.linalg.norm(jnp.clip(B_i.T@X@U_i - (r_i - 1)*jnp.ones(U_i.shape[-1]), eps))**2\n",
    "    \n",
    "def ec_objective(params, A, B):\n",
    "    X, U, r = params\n",
    "    return jnp.sum(vmap(partial(_ec,X))(U, r, A, B))\n",
    "\n",
    "@jit\n",
    "def ec_step(i, opt_state, edgetensor, fixed_idx=None):\n",
    "    params = get_params(opt_state)\n",
    "    g = grad(ec_objective)(params, edgetensor, edgetensor)\n",
    "    #g_0 = jax.ops.index_update(g[0], fixed_idx, 0)\n",
    "    g_0 = g[0].at[jnp.array(fixed_idx)].set(0)\n",
    "    g = (g_0,g[1],g[2])\n",
    "    return opt_update(i, g, opt_state)\n",
    "\n",
    "def stress(params, W, D):\n",
    "    X,_,_ = params\n",
    "    return jnp.trace(X.T@(D-W)@X) + l*jnp.linalg.norm(X)**2\n",
    "\n",
    "@jit\n",
    "def step(i, opt_state, W, D, idx, fixed_idx=None):\n",
    "    p,U,r = get_params(opt_state)\n",
    "    g = grad(stress)((p[idx],U,r), W[jnp.ix_(idx,idx)], D[jnp.ix_(idx,idx)])\n",
    "    #g_0 = jax.ops.index_add(jnp.zeros_like(p), idx, g[0], \n",
    "    #                      indices_are_sorted=False, unique_indices=True)\n",
    "    g_0 = jnp.zeros_like(p).at[jnp.array(idx)].add(g[0])\n",
    "    #g_0 = jax.ops.index_update(g_0, fixed_idx, 0)\n",
    "    g_0 = g_0.at[jnp.array(fixed_idx)].set(0)\n",
    "    g = (g_0, g[1], g[2])\n",
    "    return opt_update(i, g, opt_state)\n",
    "\n",
    "def rescale(X_transformed, minx, maxx, miny, maxy):\n",
    "    X_transformed_x_rescaled = minx + ((X_transformed[:,0] - X_transformed[:,0].min())*(maxx - minx))/(X_transformed[:,0].max() - X_transformed[:,0].min())\n",
    "    X_transformed_y_rescaled = miny + ((X_transformed[:,1] - X_transformed[:,1].min())*(maxy - miny))/(X_transformed[:,1].max() - X_transformed[:,1].min())\n",
    "    #X_transformed_x_rescaled = np.minimum(np.maximum(minx, X_transformed[:,0]+minx+(maxx-minx)/2), maxx)\n",
    "    #X_transformed_y_rescaled = np.minimum(np.maximum(miny, X_transformed[:,1]+miny+(maxy-miny)/2),maxy)\n",
    "    X_transformed_rescaled = np.stack([X_transformed_x_rescaled,X_transformed_y_rescaled],axis=-1)\n",
    "    return X_transformed_rescaled"
   ]
  },
  {
   "cell_type": "code",
   "execution_count": 284,
   "metadata": {},
   "outputs": [],
   "source": [
    "d = csgraph.shortest_path(adj, directed=False, unweighted=False)\n",
    "d = np.nan_to_num(d,nan=0.0, posinf=np.where(np.isinf(d),-np.Inf,d).max()+1)\n",
    "# weights\n",
    "eps = 1e-8\n",
    "w = jnp.square(jnp.reciprocal(d + np.eye(*d.shape)))\n",
    "w = w - jnp.diag(jnp.diag(w))\n",
    "l = 0\n",
    "dd = np.ones_like(w)\n",
    "for i in range(w.shape[0]):\n",
    "    for j in range(w.shape[1]):\n",
    "        dd[i,j]*=10*(max(comph[i],compw[i]) + max(comph[j],compw[j]))\n",
    "\n",
    "d = d * dd\n",
    "\n",
    "nx = np.array([b.x.value for b in fp.boxes])\n",
    "ny = np.array([b.y.value for b in fp.boxes])\n",
    "\n",
    "w = (adj > 1)\n",
    "positions = np.vstack([nx,ny]).T\n",
    "numedges = jnp.where(w == 1)[0].shape[0]\n",
    "edgetensor = np.zeros((numedges,)+positions.shape)\n",
    "edgelist = jnp.where(w == 1)\n",
    "for i in range(numedges):\n",
    "    e1 = edgelist[0][i].item()\n",
    "    e2 = edgelist[1][i].item()\n",
    "    edgetensor[i,e1,0] = 1\n",
    "    edgetensor[i,e2,1] = 1\n",
    "edgetensor = jnp.array(edgetensor)\n",
    "w = adj\n",
    "d = np.diag(w.sum(0) + 0.1)"
   ]
  },
  {
   "cell_type": "code",
   "execution_count": 285,
   "metadata": {},
   "outputs": [
    {
     "data": {
      "image/png": "[encoded data removed]",
      "text/plain": [
       "<Figure size 432x288 with 1 Axes>"
      ]
     },
     "metadata": {
      "needs_background": "light"
     },
     "output_type": "display_data"
    }
   ],
   "source": [
    "seed = 0\n",
    "# initialise an array of 2D positions\n",
    "rng = random.PRNGKey(seed)\n",
    "\n",
    "K=w\n",
    "pi = jnp.zeros(K.shape)\n",
    "x = jnp.zeros(K.shape)\n",
    "U = jnp.ones((numedges,2))\n",
    "r = jnp.ones(numedges)\n",
    "# show the shortest paths in a heat map.\n",
    "# If any squares are white, then infinite paths exist and the algorithm will fail.\n",
    "plt.imshow(d)\n",
    "n = d.shape[0]\n",
    "fixed_idx = [i for i,m in enumerate(movable) if m==False]\n",
    "\n",
    "#embedding = SpectralEmbedding(n_components=2, affinity='precomputed')\n",
    "#X_transformed = embedding.fit_transform(w)\n",
    "\n",
    "X_transformed = np.asarray(random.normal(rng, (n,2)))\n",
    "X_transformed_rescaled = X_transformed\n",
    "\n",
    "X_transformed_rescaled = rescale(X_transformed, minx, maxx, miny, maxy)\n",
    "init_positions = np.array([ip if movable[i]==True else [compx[i],compy[i]] \n",
    "                           for i,ip in enumerate(X_transformed_rescaled) ])\n",
    "m = np.array([(maxx + minx) / 2,(maxy + miny) / 2])\n",
    "init_positions = init_positions - m\n",
    "params = (init_positions, U, r)\n",
    "opt_init, opt_update, get_params = optimizers.adam(5e-2, b1=0.9, b2=0.999, eps=1e-08)\n",
    "opt_state = opt_init(params)"
   ]
  },
  {
   "cell_type": "code",
   "execution_count": 286,
   "metadata": {},
   "outputs": [
    {
     "data": {
      "application/vnd.jupyter.widget-view+json": {
       "model_id": "d4c3c270c2624ddebf167d9bee6f914e",
       "version_major": 2,
       "version_minor": 0
      },
      "text/plain": [
       "  0%|          | 0/1000 [00:00<?, ?it/s]"
      ]
     },
     "metadata": {},
     "output_type": "display_data"
    },
    {
     "data": {
      "text/plain": [
       "Text(0.5, 1.0, '44.663258')"
      ]
     },
     "execution_count": 286,
     "metadata": {},
     "output_type": "execute_result"
    },
    {
     "data": {
      "image/png": "[encoded data removed]",
      "text/plain": [
       "<Figure size 432x288 with 1 Axes>"
      ]
     },
     "metadata": {
      "needs_background": "light"
     },
     "output_type": "display_data"
    }
   ],
   "source": [
    "eta=1e-2\n",
    "l=1e-1\n",
    "itercount = itertools.count()\n",
    "\n",
    "stress_hist = []\n",
    "ec_hist = []\n",
    "cvx_clst_hist = []\n",
    "param_hist = []\n",
    "\n",
    "for i in tqdm(range(1000)):\n",
    "    idx = np.arange(n)\n",
    "    for _ in range(10):\n",
    "        opt_state = ec_step(i, opt_state, edgetensor, fixed_idx=fixed_idx)\n",
    "    for _ in range(1):\n",
    "        opt_state = step(i, opt_state, w, d, idx, fixed_idx=fixed_idx)\n",
    "    \n",
    "    params = get_params(opt_state)\n",
    "    param_hist.append(params)\n",
    "    stress_hist.append(stress(params, w, d))\n",
    "    ec_hist.append(ec_objective(params, edgetensor, edgetensor))\n",
    "        \n",
    "end = datetime.datetime.now()\n",
    "plt.plot(stress_hist)\n",
    "plt.title(stress(params, w, d))"
   ]
  },
  {
   "cell_type": "code",
   "execution_count": 287,
   "metadata": {},
   "outputs": [],
   "source": [
    "tp = params[0] + m\n",
    "xt = rescale(tp, minx, maxx, miny, maxy)\n",
    "compx = xt[:,0]\n",
    "compy = xt[:,1]"
   ]
  },
  {
   "cell_type": "code",
   "execution_count": 288,
   "metadata": {},
   "outputs": [
    {
     "data": {
      "text/plain": [
       "array([139.5336 , 139.5336 , 151.1528 , 150.216  , 152.2475 , 150.21611,\n",
       "       150.21667, 157.933  ], dtype=float32)"
      ]
     },
     "execution_count": 288,
     "metadata": {},
     "output_type": "execute_result"
    }
   ],
   "source": [
    "compx"
   ]
  },
  {
   "cell_type": "code",
   "execution_count": 292,
   "metadata": {
    "scrolled": false
   },
   "outputs": [
    {
     "name": "stdout",
     "output_type": "stream",
     "text": [
      "num horizontal & vertical constraints: 15 0\n",
      "Compiled constraints\n",
      "===============================================================================\n",
      "                                     CVXPY                                     \n",
      "                                     v1.4.1                                    \n",
      "===============================================================================\n",
      "(CVXPY) Oct 25 11:42:49 AM: Your problem has 261 variables, 663 constraints, and 0 parameters.\n",
      "(CVXPY) Oct 25 11:42:49 AM: It is compliant with the following grammars: DCP, DQCP\n",
      "(CVXPY) Oct 25 11:42:49 AM: (If you need to solve this problem multiple times, but with different data, consider using parameters.)\n",
      "(CVXPY) Oct 25 11:42:49 AM: CVXPY will first compile your problem; then, it will invoke a numerical solver to obtain a solution.\n",
      "(CVXPY) Oct 25 11:42:49 AM: Your problem is compiled with the CPP canonicalization backend.\n",
      "-------------------------------------------------------------------------------\n",
      "                                  Compilation                                  \n",
      "-------------------------------------------------------------------------------\n",
      "(CVXPY) Oct 25 11:42:49 AM: Compiling problem (target solver=GLPK_MI).\n",
      "(CVXPY) Oct 25 11:42:49 AM: Reduction chain: Dcp2Cone -> CvxAttr2Constr -> ConeMatrixStuffing -> GLPK_MI\n",
      "(CVXPY) Oct 25 11:42:49 AM: Applying reduction Dcp2Cone\n",
      "(CVXPY) Oct 25 11:42:49 AM: Applying reduction CvxAttr2Constr\n",
      "(CVXPY) Oct 25 11:42:49 AM: Applying reduction ConeMatrixStuffing\n",
      "(CVXPY) Oct 25 11:42:49 AM: Applying reduction GLPK_MI\n",
      "(CVXPY) Oct 25 11:42:49 AM: Finished problem compilation (took 6.296e-01 seconds).\n",
      "-------------------------------------------------------------------------------\n",
      "                                Numerical solver                               \n",
      "-------------------------------------------------------------------------------\n",
      "(CVXPY) Oct 25 11:42:49 AM: Invoking solver GLPK_MI  to obtain a solution.\n",
      "      0: obj =  -1.017490031e+02 inf =   2.904e+02 (82)\n",
      "-------------------------------------------------------------------------------\n",
      "                                    Summary                                    \n",
      "-------------------------------------------------------------------------------\n",
      "(CVXPY) Oct 25 11:42:50 AM: Problem status: optimal\n",
      "     82: obj =   2.371980197e+01 inf =   8.882e-16 (0)\n",
      "*   109: obj =   1.168099611e+01 inf =   7.709e-08 (0)\n",
      "+   109: mip =     not found yet >=              -inf        (1; 0)\n",
      "+   664: >>>>>   4.499200470e+01 >=   1.649200094e+01  63.3% (95; 13)\n",
      "+  4271: >>>>>   3.860800003e+01 >=   2.615200025e+01  32.3% (635; 158)\n",
      "+  6170: >>>>>   3.810800005e+01 >=   2.940700023e+01  22.8% (453; 891)\n",
      "+ 15536: mip =   3.810800005e+01 >=     tree is empty   0.0% (0; 5671)\n",
      "(CVXPY) Oct 25 11:42:50 AM: Optimal value: 3.811e+01\n",
      "(CVXPY) Oct 25 11:42:50 AM: Compilation took 6.296e-01 seconds\n",
      "(CVXPY) Oct 25 11:42:50 AM: Solver (including time spent in interface) took 8.071e-01 seconds\n",
      "35.90800004052248\n"
     ]
    },
    {
     "data": {
      "image/png": "[encoded data removed]",
      "text/plain": [
       "<Figure size 432x288 with 1 Axes>"
      ]
     },
     "metadata": {},
     "output_type": "display_data"
    }
   ],
   "source": [
    "# Impose relative position constraints\n",
    "\n",
    "# order constraints\n",
    "vo = []\n",
    "ho = []\n",
    "\n",
    "norelpairs = []\n",
    "\n",
    "for i1, x1 in enumerate(zip(compx, compy)):\n",
    "    for i2, x2 in enumerate(zip(compx, compy)):\n",
    "        #continue\n",
    "        if i2 <= i1:\n",
    "            continue\n",
    "        # one of the two is a fixed node\n",
    "        #if (((not movable[i1]) or (not movable[i2])) or (max(abs(x1[0] - x2[0]), abs(x1[1] - x2[1])) > 2.*max(maxx-minx, maxy-miny))):\n",
    "        if ((max(abs(x1[0] - x2[0]), abs(x1[1] - x2[1])) > 0.4*max(maxx-minx, maxy-miny))):\n",
    "            if abs(x1[0] - x2[0]) < abs(x1[1] - x2[1]):\n",
    "                if x1[1] < x2[1]:\n",
    "                    vo.append([i1, i2])\n",
    "                else:\n",
    "                    vo.append([i2,i1])\n",
    "            else:\n",
    "                if x1[0] < x2[0]:\n",
    "                    ho.append([i1, i2])\n",
    "                else:\n",
    "                    ho.append([i2,i1]) \n",
    "        else:\n",
    "            norelpairs.append([i1,i2])\n",
    "\n",
    "horiz_order = [[boxes[i] for i in h] for h in ho]\n",
    "vert_order = [[boxes[i] for i in v] for v in vo]\n",
    "print('num horizontal & vertical constraints:',len(horiz_order),len(vert_order))\n",
    "\n",
    "boxes = []\n",
    "for i in range(len(compw)):\n",
    "    boxes.append(Box(compw[i], comph[i], compx[i], compy[i], \n",
    "                     initialr =[not r for r in initrot][i], initialmx=0, initialmy=0, idx=i, \n",
    "                     r=False, pl=movable[i], m=False))\n",
    "    \n",
    "fp = FloorPlan(boxes, nets,adj,obj=True,norelpairs=None, ox=minx,oy=miny,boundary_W=maxx-minx, boundary_H=maxy-miny, \n",
    "               margin=0.5,horizontal_orderings=horiz_order, vertical_orderings=vert_order, \n",
    "               max_seconds=3800, num_cores=numCores-1, name=design)\n",
    "p, c = fp.layout()\n",
    "print(fp.h.value)\n",
    "fp.show()"
   ]
  },
  {
   "cell_type": "code",
   "execution_count": 265,
   "metadata": {},
   "outputs": [
    {
     "name": "stdout",
     "output_type": "stream",
     "text": [
      "printKiCad() outputFileName: output.bm9.routed.kicad_pcb\n"
     ]
    }
   ],
   "source": [
    "\"\"\"print db to file \"\"\"\n",
    "db.printKiCad()"
   ]
  },
  {
   "cell_type": "code",
   "execution_count": null,
   "metadata": {},
   "outputs": [],
   "source": [
    "\"\"\"write back to db \"\"\"\n",
    "for i in range(db.getInstancesCount()):\n",
    "    inst = db.getInstance(i)\n",
    "    compid = inst.getComponentId()\n",
    "    \n",
    "    box = fp.boxes[i]\n",
    "    \n",
    "    xpos = box.x.value.item() + 0.5 * ((1-fp.boxes[i].r.value)*fp.boxes[i].w.value + \n",
    "                                          (fp.boxes[i].r.value)*fp.boxes[i].h.value)\n",
    "    ypos = box.y.value.item()+ 0.5 * ((1-fp.boxes[i].r.value)*fp.boxes[i].h.value + \n",
    "                                         (fp.boxes[i].r.value)*fp.boxes[i].w.value)\n",
    "    inst.setX(xpos)\n",
    "    inst.setY(ypos)\n",
    "\n",
    "    rotated = box.r.value\n",
    "    mirroredX = box.mx.value.item()\n",
    "    mirroredY = box.my.value.item()\n",
    "    \n",
    "    init_angle = inst.getAngle()\n",
    " \n",
    "    print(i, xpos, ypos, box.w, box.h,init_angle, rotated)\n",
    "\n",
    "    if (init_angle==0) and (rotated == 0.0):\n",
    "        inst.setAngle(90)\n",
    "    elif (init_angle==0) and (rotated == 1.0):\n",
    "        inst.setAngle(0)\n",
    "    elif (init_angle==90) and (rotated == 0.0):\n",
    "        inst.setAngle(90)\n",
    "    elif (init_angle==90) and (rotated == 1.0):\n",
    "        inst.setAngle(180)\n",
    "    elif (init_angle==180) and (rotated == 0.0):\n",
    "        inst.setAngle(270)\n",
    "    elif (init_angle==180) and (rotated == 1.0):\n",
    "        inst.setAngle(180)\n",
    "    elif (init_angle==270) and (rotated == 0.0):\n",
    "        inst.setAngle(270)\n",
    "    elif (init_angle==270) and (rotated == 1.0):\n",
    "        inst.setAngle(0)\n",
    "    print(i, xpos, ypos, box.w, box.h,inst.getAngle(), rotated)    \n",
    "    "
   ]
  },
  {
   "cell_type": "code",
   "execution_count": 38,
   "metadata": {},
   "outputs": [
    {
     "data": {
      "text/plain": [
       "[153.313,\n",
       " 155.873,\n",
       " 139.82564758300782,\n",
       " 141.84564758300783,\n",
       " 142.38564758300782,\n",
       " 146.38564758300782,\n",
       " 153.2856475830078,\n",
       " array(149.08564758)]"
      ]
     },
     "execution_count": 38,
     "metadata": {},
     "output_type": "execute_result"
    }
   ],
   "source": [
    "[b.x.value for b in boxes]"
   ]
  },
  {
   "cell_type": "code",
   "execution_count": 39,
   "metadata": {},
   "outputs": [
    {
     "data": {
      "text/plain": [
       "[True, True, True, True, True, True, True, False]"
      ]
     },
     "execution_count": 39,
     "metadata": {},
     "output_type": "execute_result"
    }
   ],
   "source": [
    "movable"
   ]
  },
  {
   "cell_type": "code",
   "execution_count": null,
   "metadata": {},
   "outputs": [],
   "source": [
    "#7 156.083 104.902 True 10.2 3.7 90 False"
   ]
  }
 ],
 "metadata": {
  "kernelspec": {
   "display_name": "Python 3 (ipykernel)",
   "language": "python",
   "name": "python3"
  },
  "language_info": {
   "codemirror_mode": {
    "name": "ipython",
    "version": 3
   },
   "file_extension": ".py",
   "mimetype": "text/x-python",
   "name": "python",
   "nbconvert_exporter": "python",
   "pygments_lexer": "ipython3",
   "version": "3.8.2"
  }
 },
 "nbformat": 4,
 "nbformat_minor": 4
}
